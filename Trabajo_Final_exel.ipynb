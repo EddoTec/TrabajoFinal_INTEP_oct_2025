{
 "cells": [
  {
   "cell_type": "code",
   "execution_count": null,
   "id": "4c23c006",
   "metadata": {},
   "outputs": [],
   "source": []
  },
  {
   "cell_type": "markdown",
   "id": "fb18c2f2",
   "metadata": {},
   "source": [
    "## trabajo final"
   ]
  },
  {
   "cell_type": "code",
   "execution_count": null,
   "id": "54068285",
   "metadata": {},
   "outputs": [],
   "source": [
    "# importamos las librerias necesarias\n",
    "import os\n",
    "import pandas as pd\n",
    "import matplotlib.pyplot as plt\n",
    "#import seaborn as sns\n",
    "import numpy as np\n",
    "\n"
   ]
  },
  {
   "cell_type": "code",
   "execution_count": null,
   "id": "a02509a1",
   "metadata": {},
   "outputs": [],
   "source": [
    "#codigo 1 \n",
    "#extraccion de datos\n",
    "#definir la rurta del archivo\n",
    "ruta_archivo = 'BD_Trabajo_Final.xlsx'\n",
    "\n",
    "# verificar si el archivo existe\n",
    "if not os.path.exists(ruta_archivo):\n",
    "    raise FileNotFoundError(f\"El archivo {ruta_archivo} no se encuentra en la ruta especificada.\")\n",
    "\n",
    "#cargar el archivo excel\n",
    "df = pd.read_excel(ruta_archivo, sheet_name=None)\n",
    " "
   ]
  }
 ],
 "metadata": {
  "language_info": {
   "name": "python"
  }
 },
 "nbformat": 4,
 "nbformat_minor": 5
}
